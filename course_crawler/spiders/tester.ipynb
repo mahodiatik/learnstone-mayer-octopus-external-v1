{
 "cells": [
  {
   "cell_type": "code",
   "execution_count": 1,
   "metadata": {},
   "outputs": [],
   "source": [
    "from datetime import datetime\n",
    "import json\n",
    "import os\n",
    "import re\n",
    "from pathlib import Path\n",
    "from typing import Dict, List\n",
    "from urllib.parse import parse_qs\n",
    "from bs4 import BeautifulSoup, Tag\n",
    "\n",
    "\n",
    "import requests\n",
    "import asyncio\n"
   ]
  },
  {
   "cell_type": "code",
   "execution_count": 18,
   "metadata": {},
   "outputs": [],
   "source": [
    "# async def run(playwright: Playwright):\n",
    "#     chromium = playwright.chromium # or \"firefox\" or \"webkit\".\n",
    "#     browser = await chromium.launch()\n",
    "#     page = await browser.new_page()\n",
    "#     await page.goto(\"http://example.com\")\n",
    "#     # other actions...\n",
    "#     await browser.close()\n",
    "\n",
    "# async def main():\n",
    "#     async with async_playwright() as playwright:\n",
    "#         await run(playwright)\n",
    "# asyncio.run(main())"
   ]
  },
  {
   "cell_type": "code",
   "execution_count": 2,
   "metadata": {},
   "outputs": [],
   "source": [
    "response = requests.get(\"https://www.swansea.ac.uk/admissions/application-deadlines/\")\n",
    "soup = BeautifulSoup(response.content, \"html.parser\")"
   ]
  },
  {
   "cell_type": "code",
   "execution_count": 10,
   "metadata": {},
   "outputs": [
    {
     "name": "stdout",
     "output_type": "stream",
     "text": [
      "[{'value': '18 September 2024'}, {'value': '17 July 2024'}, {'value': '18 December 2024'}, {'value': '30 October 2024'}]\n"
     ]
    }
   ],
   "source": [
    "default_application_dates= []\n",
    "ok=soup.select_one(\"#d\\.en\\.163697 h2\").find_next(\"table\")\n",
    "for i in ok.find_all(\"td\"):\n",
    "    text=i.text\n",
    "    date_pattern = re.compile(r\"(\\d{1,2})\\s*(?:st|nd|rd|th)?\\s*(?:January|February|March|April|May|June|July|August|September|October|November|December)\\s*(\\d{4})\")\n",
    "    match = date_pattern.search(text)\n",
    "    if match:\n",
    "        default_application_dates.append({\"value\": match.group(0)})\n",
    "print(default_application_dates)"
   ]
  },
  {
   "cell_type": "code",
   "execution_count": null,
   "metadata": {},
   "outputs": [],
   "source": []
  },
  {
   "cell_type": "code",
   "execution_count": null,
   "metadata": {},
   "outputs": [],
   "source": []
  },
  {
   "cell_type": "markdown",
   "metadata": {},
   "source": []
  },
  {
   "cell_type": "code",
   "execution_count": null,
   "metadata": {},
   "outputs": [],
   "source": []
  },
  {
   "cell_type": "markdown",
   "metadata": {},
   "source": [
    "https://www.swansea.ac.uk/postgraduate/taught/aerospace-civil-electrical-mechanical-engineering/mechanical/msc-virtual-reality/\n",
    "https://www.swansea.ac.uk/postgraduate/taught/aerospace-civil-electrical-mechanical-engineering/mechanical/msc-virtual-reality-with-industry/\n",
    "https://www.swansea.ac.uk/postgraduate/taught/culture-communication/modern-lang-translation-interpretation/ma-translation-interpreting-extended/\n",
    "https://www.swansea.ac.uk/postgraduate/taught/som/accounting-finance/msc-professional-accounting/\n",
    "https://www.swansea.ac.uk/postgraduate/taught/law/llm-international-maritime-law/\n",
    "https://www.swansea.ac.uk/postgraduate/taught/medicine/medical-neuroscience-msc/"
   ]
  }
 ],
 "metadata": {
  "kernelspec": {
   "display_name": "myenv",
   "language": "python",
   "name": "python3"
  },
  "language_info": {
   "codemirror_mode": {
    "name": "ipython",
    "version": 3
   },
   "file_extension": ".py",
   "mimetype": "text/x-python",
   "name": "python",
   "nbconvert_exporter": "python",
   "pygments_lexer": "ipython3",
   "version": "3.10.12"
  }
 },
 "nbformat": 4,
 "nbformat_minor": 2
}
